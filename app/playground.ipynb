{
 "cells": [
  {
   "cell_type": "code",
   "execution_count": 1,
   "metadata": {},
   "outputs": [],
   "source": [
    "import os\n",
    "OPENAI_API_KEY = os.environ.get(\"OPENAI_API_KEY\")\n",
    "LANGCHAIN_API_KEY = os.environ.get(\"LANGCHAIN_API_KEY\")\n",
    "os.environ[\"LANGCHAIN_TRACING_V2\"] = \"true\"\n",
    "SEC_API_KEY = os.environ.get(\"SEC_API_KEY\")"
   ]
  },
  {
   "cell_type": "code",
   "execution_count": 2,
   "metadata": {},
   "outputs": [],
   "source": [
    "import html2text\n",
    "import json \n",
    "from sec_api import QueryApi, RenderApi\n",
    "from langchain import hub\n",
    "from langchain_chroma import Chroma\n",
    "from langchain_openai import OpenAIEmbeddings\n",
    "from langchain_text_splitters import RecursiveCharacterTextSplitter\n",
    "from langchain_core.output_parsers import StrOutputParser\n",
    "from langchain_core.documents.base import Document\n",
    "from langchain_openai import ChatOpenAI\n"
   ]
  },
  {
   "cell_type": "code",
   "execution_count": 3,
   "metadata": {},
   "outputs": [],
   "source": [
    "from langchain_core.runnables import RunnableLambda, RunnablePassthrough, RunnableParallel\n"
   ]
  },
  {
   "cell_type": "code",
   "execution_count": 4,
   "metadata": {},
   "outputs": [],
   "source": [
    "\n",
    "queryApi = QueryApi(api_key=SEC_API_KEY)\n",
    "query = {\n",
    "  \"query\": \"ticker:MSFT AND formType:\\\"10-K\\\"\",\n",
    "  \"from\": \"0\",\n",
    "  \"size\": \"1\",\n",
    "  \"sort\": [{ \"filedAt\": { \"order\": \"desc\" } }]\n",
    "}\n",
    "\n",
    "response = queryApi.get_filings(query)\n",
    "\n",
    "\n",
    "# print(json.dumps(response[\"filings\"][0], indent=2))\n",
    "link_to_10k = response[\"filings\"][0][\"linkToFilingDetails\"]\n",
    "# link_to_10k\n",
    "\n",
    "renderApi = RenderApi(api_key=SEC_API_KEY)\n",
    "\n",
    "target_10k = renderApi.get_filing(link_to_10k)\n",
    "target_10k_full_text = html2text.html2text(target_10k)\n",
    "docs = [Document(page_content=target_10k_full_text)]\n",
    "\n",
    "text_splitter = RecursiveCharacterTextSplitter(\n",
    "    chunk_size=1000, chunk_overlap=200, add_start_index=True\n",
    ")\n",
    "all_splits = text_splitter.split_documents(docs)\n",
    "vectorstore = Chroma.from_documents(documents=all_splits, embedding=OpenAIEmbeddings(openai_api_key=OPENAI_API_KEY), persist_directory=\"./chroma_msft\")\n",
    "\n",
    "\n",
    "# save to disk\n",
    "# db2 = Chroma.from_documents(docs, embedding_function, persist_directory=\"./chroma_db\")\n",
    "\n",
    "\n"
   ]
  },
  {
   "cell_type": "code",
   "execution_count": 5,
   "metadata": {},
   "outputs": [],
   "source": [
    "# load from disk\n",
    "vectorstore = Chroma(persist_directory=\"chroma_msft\", embedding_function=OpenAIEmbeddings(openai_api_key=OPENAI_API_KEY))\n",
    "# docs = db3.similarity_search(query)\n",
    "# print(docs[0].page_content)\n",
    "\n",
    "retriever = vectorstore.as_retriever(search_type=\"similarity\", search_kwargs={\"k\": 6})\n",
    "\n",
    "\n",
    "llm = ChatOpenAI(model=\"gpt-3.5-turbo-0125\")"
   ]
  },
  {
   "cell_type": "code",
   "execution_count": 6,
   "metadata": {},
   "outputs": [],
   "source": [
    "prompt = hub.pull(\"rlm/rag-prompt\")\n",
    "def format_docs(docs):\n",
    "    return \"\\n\\n\".join(doc.page_content for doc in docs)\n",
    "\n"
   ]
  },
  {
   "cell_type": "code",
   "execution_count": 7,
   "metadata": {},
   "outputs": [],
   "source": [
    "context_and_question = RunnableParallel({\"context\": retriever | format_docs, \"question\": RunnablePassthrough()})"
   ]
  },
  {
   "cell_type": "code",
   "execution_count": 8,
   "metadata": {},
   "outputs": [],
   "source": [
    "rag_chain = (\n",
    "    context_and_question\n",
    "    | prompt\n",
    "    | llm\n",
    "    | StrOutputParser()\n",
    ")"
   ]
  },
  {
   "cell_type": "code",
   "execution_count": 9,
   "metadata": {},
   "outputs": [
    {
     "name": "stdout",
     "output_type": "stream",
     "text": [
      "Net sales in North America for 2023 were $211,915 million."
     ]
    }
   ],
   "source": [
    "# for chunk in rag_chain.stream(\"What is the average price AMZN paid per share for the repurchases made between april 1 and april 30, 2023?\"):\n",
    "for chunk in rag_chain.stream(\"What were net sales in 2023 in north america?\"):\n",
    "    print(chunk, end=\"\", flush=True)"
   ]
  },
  {
   "cell_type": "code",
   "execution_count": 10,
   "metadata": {},
   "outputs": [
    {
     "data": {
      "text/plain": [
       "'Net sales in North America for 2023 were $211,915 million.'"
      ]
     },
     "execution_count": 10,
     "metadata": {},
     "output_type": "execute_result"
    }
   ],
   "source": [
    "rag_chain.invoke(\"What were net sales in 2023 in north america?\")"
   ]
  }
 ],
 "metadata": {
  "kernelspec": {
   "display_name": "query-10k-using-rag-s5fr6Z1R-py3.12",
   "language": "python",
   "name": "python3"
  },
  "language_info": {
   "codemirror_mode": {
    "name": "ipython",
    "version": 3
   },
   "file_extension": ".py",
   "mimetype": "text/x-python",
   "name": "python",
   "nbconvert_exporter": "python",
   "pygments_lexer": "ipython3",
   "version": "3.12.3"
  },
  "orig_nbformat": 4,
  "vscode": {
   "interpreter": {
    "hash": "45b476ee444d44b197fb42bde94f6e88485865f9569734e2663ffcd2dee11803"
   }
  }
 },
 "nbformat": 4,
 "nbformat_minor": 2
}
